{
 "cells": [
  {
   "cell_type": "code",
   "execution_count": 2,
   "id": "ec63b29b",
   "metadata": {},
   "outputs": [
    {
     "name": "stdout",
     "output_type": "stream",
     "text": [
      "\n",
      "\u001b[1m[\u001b[0m\u001b[34;49mnotice\u001b[0m\u001b[1;39;49m]\u001b[0m\u001b[39;49m A new release of pip is available: \u001b[0m\u001b[31;49m25.2\u001b[0m\u001b[39;49m -> \u001b[0m\u001b[32;49m25.3\u001b[0m\n",
      "\u001b[1m[\u001b[0m\u001b[34;49mnotice\u001b[0m\u001b[1;39;49m]\u001b[0m\u001b[39;49m To update, run: \u001b[0m\u001b[32;49mpip install --upgrade pip\u001b[0m\n",
      "Note: you may need to restart the kernel to use updated packages.\n"
     ]
    }
   ],
   "source": [
    "%pip install -q langchain_community langchain_anthropic langchain_tavily langgraph"
   ]
  },
  {
   "cell_type": "code",
   "execution_count": 24,
   "id": "555314d2",
   "metadata": {},
   "outputs": [
    {
     "data": {
      "text/plain": [
       "True"
      ]
     },
     "execution_count": 24,
     "metadata": {},
     "output_type": "execute_result"
    }
   ],
   "source": [
    "from dotenv import load_dotenv\n",
    "\n",
    "load_dotenv()"
   ]
  },
  {
   "cell_type": "code",
   "execution_count": 25,
   "id": "7b8ffeb7",
   "metadata": {},
   "outputs": [],
   "source": [
    "# llm 설정\n",
    "from langchain_anthropic import ChatAnthropic\n",
    "\n",
    "llm = ChatAnthropic(model=\"claude-3-7-sonnet-latest\", max_tokens=8000)\n",
    "small_llm = ChatAnthropic(model=\"claude-3-5-haiku-latest\", max_tokens=4000)"
   ]
  },
  {
   "cell_type": "code",
   "execution_count": null,
   "id": "69acad45",
   "metadata": {},
   "outputs": [],
   "source": [
    "from typing import Literal\n",
    "from langchain_core.messages import HumanMessage, AIMessage\n",
    "from langchain_tavily import TavilySearch\n",
    "from langgraph.graph import MessagesState\n",
    "from langchain.agents import create_agent\n",
    "from langgraph.types import Command\n",
    "\n",
    "tavliy_search_tool = TavilySearch(\n",
    "    max_results=3,\n",
    "    search_depth=\"advanced\",\n",
    "    include_answer=True,\n",
    "    include_raw_content=True,\n",
    ")\n",
    "\n",
    "research_agent = create_agent(\n",
    "    model=llm,\n",
    "    tools=[tavliy_search_tool.as_tool()],\n",
    "    system_prompt= \"\"\"당신은 세계적인 수준의 여행 연구 전문가입니다. 여행 목적지와 사용자가 여행하고자 하는 일수가 주어지면, \n",
    "관련 여행 활동 및 숙박시설을 찾기 위한 검색어 목록을 생성하세요.\n",
    "그런 다음 각 검색어로 웹을 검색하고, 결과를 분석하여 가장 관련성 높은 결과 10개를 반환하세요.\n",
    "\n",
    "작업 순서:\n",
    "1. 여행 목적지와 일수와 관련된 검색어 3개를 생성하세요\n",
    "2. 각 검색어에 대해 tavily_search를 실행하고 결과를 분석하세요\n",
    "3. 모든 검색 결과에서 사용자의 선호도에 가장 관련성 높은 결과 10개를 요약하여 반환하세요\n",
    "4. 결과의 품질이 중요합니다. 간결하고 핵심적인 정보만 제공하세요.\n",
    "\"\"\"\n",
    ")\n",
    "\n",
    "def research_agent_node(state: MessagesState) -> Command[Literal['planner_agent_node']] :\n",
    "    result = research_agent.invoke(state)\n",
    "    last_message = result['messages'][-1].content\n",
    "    return Command(\n",
    "        goto='planner_agent_node', \n",
    "        update={'messages': [HumanMessage(last_message, name='research_agent_node')]}\n",
    "    )"
   ]
  },
  {
   "cell_type": "code",
   "execution_count": null,
   "id": "71e1f3bf",
   "metadata": {},
   "outputs": [],
   "source": [
    "from typing import Literal\n",
    "from langchain_core.messages import HumanMessage\n",
    "from langgraph.graph import END, MessagesState\n",
    "from langchain.agents import create_agent\n",
    "from langgraph.types import Command\n",
    "\n",
    "planner_agent = create_agent(\n",
    "    model=llm,\n",
    "    system_prompt= \"\"\"당신은 시니어 여행 플래너입니다. 여행 목적지, 여행 기간, 조사한 정보를 바탕으로\n",
    "사용자 맞춤형 여행 일정을 작성합니다.\n",
    "\n",
    "# 작성 방법\n",
    "- 조사한 정보를 활용해 추천 활동과 숙박시설이 포함된 일정 초안 작성\n",
    "- 체계적이고 유익하며 매력적인 구성\n",
    "- 구체적인 정보 인용으로 균형잡힌 일정 제공\n",
    "- 명확성, 일관성, 완성도에 집중\n",
    "- 정보 지어내기 금지, 출처 명확히 표기\n",
    "\n",
    "# 중요\n",
    "일정의 품질이 가장 중요합니다.\n",
    "\"\"\"\n",
    ")\n",
    "\n",
    "def planner_agent_node(state: MessagesState) -> Command[Literal[END]] :\n",
    "    result = planner_agent.invoke(state)\n",
    "    last_message = result['messages'][-1].content\n",
    "    return Command(\n",
    "        goto=END, \n",
    "        update={'messages': [HumanMessage(last_message, name='planner_agent_node')]}\n",
    "    )"
   ]
  },
  {
   "cell_type": "code",
   "execution_count": 28,
   "id": "a835903d",
   "metadata": {},
   "outputs": [],
   "source": [
    "from langgraph.graph import START, StateGraph\n",
    "\n",
    "\n",
    "graph_builder = StateGraph(MessagesState)\n",
    "\n",
    "graph_builder.add_node('research_agent_node', research_agent_node)\n",
    "graph_builder.add_node('planner_agent_node', planner_agent_node)\n",
    "\n",
    "graph_builder.add_edge(START, 'research_agent_node')\n",
    "graph_builder.add_edge('research_agent_node', 'planner_agent_node')\n",
    "graph_builder.add_edge('planner_agent_node', END)\n",
    "\n",
    "graph = graph_builder.compile()"
   ]
  },
  {
   "cell_type": "code",
   "execution_count": 29,
   "id": "f346db7b",
   "metadata": {},
   "outputs": [
    {
     "data": {
      "image/png": "[encoded data removed]",
      "text/plain": [
       "<langgraph.graph.state.CompiledStateGraph object at 0x11630d260>"
      ]
     },
     "execution_count": 29,
     "metadata": {},
     "output_type": "execute_result"
    }
   ],
   "source": [
    "graph"
   ]
  },
  {
   "cell_type": "code",
   "execution_count": null,
   "id": "ed78ebaf",
   "metadata": {},
   "outputs": [
    {
     "name": "stdout",
     "output_type": "stream",
     "text": [
      "================================\u001b[1m Human Message \u001b[0m=================================\n",
      "\n",
      "나는 12월 22일부터 24일까지 제주도 여행을 가려고 해 여행 일정을 작성해주세요\n"
     ]
    }
   ],
   "source": [
    "initial_state = MessagesState(messages=[HumanMessage(content=\"나는 12월 22일부터 24일까지 제주도 여행을 가려고 해 여행 일정을 작성해주세요\")])\n",
    "\n",
    "for chunk in graph.stream(\n",
    "    initial_state, stream_mode=\"values\"\n",
    "):\n",
    "    chunk['messages'][-1].pretty_print()"
   ]
  },
  {
   "cell_type": "code",
   "execution_count": null,
   "id": "0bdfd104",
   "metadata": {},
   "outputs": [],
   "source": []
  }
 ],
 "metadata": {
  "kernelspec": {
   "display_name": ".venv",
   "language": "python",
   "name": "python3"
  },
  "language_info": {
   "codemirror_mode": {
    "name": "ipython",
    "version": 3
   },
   "file_extension": ".py",
   "mimetype": "text/x-python",
   "name": "python",
   "nbconvert_exporter": "python",
   "pygments_lexer": "ipython3",
   "version": "3.13.7"
  }
 },
 "nbformat": 4,
 "nbformat_minor": 5
}
